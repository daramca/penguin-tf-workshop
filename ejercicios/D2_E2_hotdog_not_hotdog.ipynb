{
 "cells": [
  {
   "cell_type": "markdown",
   "metadata": {
    "colab_type": "text",
    "id": "bUAlnKeUCij9"
   },
   "source": [
    "<a href=\"https://colab.research.google.com/github/torresmateo/penguin-tf-workshop/blob/master/ejercicios/D2_E2_hotdog_not_hotdog.ipynb\" target=\"_parent\">\n",
    "  <img src=\"https://colab.research.google.com/assets/colab-badge.svg\" alt=\"Open In Colab\"/>\n",
    "</a>\n",
    "\n",
    "\n",
    "# Hotdog Not-hotdog\n",
    "\n",
    "En este notebook de ejercicios se explica el funcionamiento de los generadores. Vamos a recrear la app que se muestra en la serie de HBO Silicon Valley [Hotdog Not-hotdog](https://www.youtube.com/watch?v=pqTntG1RXSY) que dicrimina entre imágenes que muestran un hotdog, e imágenes que no muestran un hotdog.\n",
    "\n",
    "El *dataset* se encuentra disponible en [kaggle](https://www.kaggle.com/dansbecker/hot-dog-not-hot-dog/data). No es necesario que bajes el *dataset* a tu computadora si estas usando Google Colab, pues se encuentra diponible en mi cuenta de Google Drive, y el código en la siguiente celda descarga y descomprime el dataset en el directorio `/tmp/hot-dog-not-hot-dog` por conveniencia. Si es conveniente que explores un poco del *dataset* en kaggle, de tal manera a entender la estructura de las carpetas."
   ]
  },
  {
   "cell_type": "code",
   "execution_count": null,
   "metadata": {
    "colab": {
     "base_uri": "https://localhost:8080/",
     "height": 102
    },
    "colab_type": "code",
    "id": "xwOSar2P83M_",
    "outputId": "905efdfc-5f3d-4b12-9898-76437ad496dd"
   },
   "outputs": [],
   "source": [
    "%tensorflow_version 2.x\n",
    "import numpy as np\n",
    "import tensorflow as tf\n",
    "import matplotlib.pyplot as plt\n",
    "plt.style.use('default')\n",
    "import zipfile\n",
    "import gdown\n",
    "import os\n",
    "\n",
    "url = 'https://drive.google.com/uc?id=1Pway7IAVbnTTNTskfeRwfQKetL-AyO25'\n",
    "output = '/tmp/hot-dog-not-hot-dog.zip'\n",
    "gdown.download(url, output, quiet=False)\n",
    "local_zip = '/tmp/hot-dog-not-hot-dog.zip'\n",
    "zip_ref = zipfile.ZipFile(local_zip, 'r')\n",
    "zip_ref.extractall('/tmp/hot-dog-not-hot-dog')\n",
    "zip_ref.close()        "
   ]
  },
  {
   "cell_type": "markdown",
   "metadata": {
    "colab_type": "text",
    "id": "cdsTkWPpDiwu"
   },
   "source": [
    "# Generadores\n",
    "\n",
    "en la siguientes celdas se encuentra el código para generar un *dataset* a partir de carpetas en el disco duro. \n",
    "\n",
    "Primero que nada, exploramos la carpeta del *dataset* y creamos una variable que contenga las clases"
   ]
  },
  {
   "cell_type": "code",
   "execution_count": null,
   "metadata": {
    "colab": {
     "base_uri": "https://localhost:8080/",
     "height": 136
    },
    "colab_type": "code",
    "id": "W4dpyypm9Ecl",
    "outputId": "4fe0e768-00cc-4e90-b4ce-622defde0b06"
   },
   "outputs": [],
   "source": [
    "# función para visualizar el contenido de una carpeta: adaptado de https://stackoverflow.com/a/9728478/943138\n",
    "def list_files(startpath):\n",
    "    for root, dirs, files in os.walk(startpath):\n",
    "        if 'seefood' in root:\n",
    "            continue\n",
    "        level = root.replace(startpath, '').count(os.sep)\n",
    "        indent = ' ' * 4 * (level)\n",
    "        if level > 1:\n",
    "            print(f'{indent}{os.path.basename(root)}/ \\t{len(files)} imágenes')\n",
    "        else:\n",
    "            print(f'{indent}{os.path.basename(root)}/')\n",
    "        subindent = ' ' * 4 * (level + 1)\n",
    "\n",
    "hotdog_nothotdog = '/tmp/hot-dog-not-hot-dog'\n",
    "list_files(hotdog_nothotdog)\n",
    "CLASES = ['HOTDOG', 'NOT-HOTDOG']"
   ]
  },
  {
   "cell_type": "markdown",
   "metadata": {
    "colab_type": "text",
    "id": "72YP-OeCUsTB"
   },
   "source": [
    "# Funciones de ayuda\n",
    "\n",
    "se provee la funcion `ver_historia`, incluida en el notebook anterior."
   ]
  },
  {
   "cell_type": "code",
   "execution_count": null,
   "metadata": {
    "colab": {},
    "colab_type": "code",
    "id": "Wb8Cr2o_U1x8"
   },
   "outputs": [],
   "source": [
    "def ver_historia(historia, titulo = '', ax = None):\n",
    "    \"\"\"\n",
    "    Visualizar una la historia de un modelo, \n",
    "    se hará una figura que muestre la evolución de la\n",
    "    función de costo y de la precisión del modelo con\n",
    "    respecto a los epochs.\n",
    "\n",
    "    Parameters\n",
    "    ----------\n",
    "    historia : keras History\n",
    "        Es lo que retorna la llamada a `model.fit`\n",
    "    titulo : str\n",
    "        el título del ax de arriba\n",
    "    ax : np.array\n",
    "        si se provee, no se creará una imagen nueva y se usará\n",
    "        `ax` en su lugar. Se debe proveer 2 ejes de una figura\n",
    "        de pyplot.\n",
    "    \"\"\"\n",
    "    create = ax is None\n",
    "    if create:\n",
    "        fig, ax = plt.subplots(2,1,figsize=(10,8), dpi=100)\n",
    "    acc      = historia.history['accuracy']\n",
    "    val_acc  = historia.history['val_accuracy']\n",
    "    loss     = historia.history['loss']\n",
    "    val_loss = historia.history['val_loss']\n",
    "    epochs = range(len(acc))\n",
    "    ax[0].grid(True)\n",
    "    ax[0].plot(epochs, acc, label=f\"Entrenamiento - {titulo}\")\n",
    "    ax[0].plot(epochs, val_acc, label=f\"Evaluación - {titulo}\")\n",
    "    ax[0].set_ylabel('Precisión')\n",
    "    ax[0].set_xlabel('Epoch')\n",
    "    #ax[0].set_ylim(0, 1.1)\n",
    "    ax[0].legend()\n",
    "    ax[1].grid(True)\n",
    "    ax[1].plot(epochs, loss, label=f\"Entrenamiento - {titulo}\")\n",
    "    ax[1].plot(epochs, val_loss, label=f\"Evaluación - {titulo}\")\n",
    "    ax[1].set_ylabel('Costo')\n",
    "    ax[1].set_xlabel('Epoch')\n",
    "    ax[1].legend()\n",
    "    if create:\n",
    "        plt.show()"
   ]
  },
  {
   "cell_type": "markdown",
   "metadata": {
    "colab_type": "text",
    "id": "Abu2kKWfGWsO"
   },
   "source": [
    "Note que la estrucutura de la carpeta es como la mencionada en el slide.\n",
    "\n",
    "Lo siguiente es crear 2 generadores usando la clase [`ImageDataGenerator`](https://www.tensorflow.org/api_docs/python/tf/keras/preprocessing/image/ImageDataGenerator). Esta clase nos provee una interfaz para generar el dataset de forma automática. Entre otras cosas, ofrece facilidades para el pre-procesamiento de las imágenes, como la normalización de las imagenes, o el aumento del dataset con transformaciones simples. En nuestro caso, simplemente indicaremos que queremos hacer la normalización de las imágenes a un rango entre 0 y 1."
   ]
  },
  {
   "cell_type": "code",
   "execution_count": null,
   "metadata": {
    "colab": {
     "base_uri": "https://localhost:8080/",
     "height": 34
    },
    "colab_type": "code",
    "id": "hi0qcd6zAwwW",
    "outputId": "00995367-1109-40d8-c5b9-466c00353e3b"
   },
   "outputs": [],
   "source": [
    "from tensorflow.keras.preprocessing.image import ImageDataGenerator\n",
    "\n",
    "# elegir el directorio donde se encuentran las imágenes de entrenamiento\n",
    "train_dir = os.path.join(hotdog_nothotdog, 'train')\n",
    "\n",
    "# crear una instancia de ImageDataGenerator\n",
    "train_datagen = ImageDataGenerator(rescale=1./255)\n",
    "\n",
    "# configurar el generador con el directorio correcto\n",
    "train_gen = train_datagen.flow_from_directory(\n",
    "    train_dir, \n",
    "    target_size=(150,150),  # indicamos al generador que cmabie la resolución a 150x150 píxeles\n",
    "    class_mode='binary')  # indicamos que es un dataset para clasificación binaria"
   ]
  },
  {
   "cell_type": "markdown",
   "metadata": {
    "colab_type": "text",
    "id": "1s_m-7nqIW8n"
   },
   "source": [
    "# Ejercicio 1 - Generador de evaluación\n",
    "\n",
    "La celda de arriba produce un generador para las imágenes de entrenamiento. Escribe el código equivalente para el generador de evaluación"
   ]
  },
  {
   "cell_type": "code",
   "execution_count": null,
   "metadata": {
    "colab": {
     "base_uri": "https://localhost:8080/",
     "height": 34
    },
    "colab_type": "code",
    "id": "0nC-MVx_Ikw6",
    "outputId": "752d9d48-c121-4fbe-fdde-9b90c028051a"
   },
   "outputs": [],
   "source": [
    "# elegir el directorio donde se encuentran las imágenes de entrenamiento\n",
    "# tu código aquí (~1 línea)\n",
    "\n",
    "# crear una instancia de ImageDataGenerator\n",
    "# tu código aquí (~1 línea)\n",
    "\n",
    "# configurar el generador con el directorio correcto\n",
    "# tu código aquí (~4 líneas)\n"
   ]
  },
  {
   "cell_type": "markdown",
   "metadata": {
    "colab_type": "text",
    "id": "rKKBCF-jKD32"
   },
   "source": [
    "# Exploramos los datos del generador\n",
    "\n",
    "En la siguiente celda se provee de una función que nos muestra algunas imágenes del generador.\n"
   ]
  },
  {
   "cell_type": "code",
   "execution_count": null,
   "metadata": {
    "colab": {
     "base_uri": "https://localhost:8080/",
     "height": 829
    },
    "colab_type": "code",
    "id": "ooaCQsy9NRyn",
    "outputId": "be699805-b09c-4765-b8fe-545178ca6b45"
   },
   "outputs": [],
   "source": [
    "def show_batch(image_batch, label_batch):\n",
    "    plt.figure(figsize=(10,10))\n",
    "    for n in range(25):\n",
    "        ax = plt.subplot(5,5,n+1)\n",
    "        plt.imshow(image_batch[n])\n",
    "        plt.title(CLASES[label_batch[n].astype(int)].title())\n",
    "        plt.axis('off')\n",
    "\n",
    "image_batch, label_batch = next(train_gen)\n",
    "show_batch(image_batch, label_batch)"
   ]
  },
  {
   "cell_type": "markdown",
   "metadata": {
    "colab_type": "text",
    "id": "O7JHfw2KN3Do"
   },
   "source": [
    "Vemos que el formato de una imagen es identica al caso de MNIST, su resolución es de 300x300 y tiene 3 canales (rojo, verde, y azul)"
   ]
  },
  {
   "cell_type": "code",
   "execution_count": null,
   "metadata": {
    "colab": {
     "base_uri": "https://localhost:8080/",
     "height": 34
    },
    "colab_type": "code",
    "id": "MGURVgY9OSmS",
    "outputId": "5c6b8c34-a329-45de-b826-51c7c38c450c"
   },
   "outputs": [],
   "source": [
    "image_batch[0].shape"
   ]
  },
  {
   "cell_type": "markdown",
   "metadata": {
    "colab_type": "text",
    "id": "jrdNGOcSOfEC"
   },
   "source": [
    "La representación sigue siendo un array de numpy con valores entre 0 y 1"
   ]
  },
  {
   "cell_type": "code",
   "execution_count": null,
   "metadata": {
    "colab": {
     "base_uri": "https://localhost:8080/",
     "height": 850
    },
    "colab_type": "code",
    "id": "218lRhg4OGS-",
    "outputId": "1e74952e-6842-4431-ac16-29f938c33af7"
   },
   "outputs": [],
   "source": [
    "image_batch[0]"
   ]
  },
  {
   "cell_type": "markdown",
   "metadata": {
    "colab_type": "text",
    "id": "sy3xfW1HOwm4"
   },
   "source": [
    "y la representación de los labels siguen siendo unos y ceros"
   ]
  },
  {
   "cell_type": "code",
   "execution_count": null,
   "metadata": {
    "colab": {
     "base_uri": "https://localhost:8080/",
     "height": 68
    },
    "colab_type": "code",
    "id": "mNGR2Q9LONq-",
    "outputId": "bfb35792-255f-4c88-a577-a1cde17dd79f"
   },
   "outputs": [],
   "source": [
    "label_batch"
   ]
  },
  {
   "cell_type": "markdown",
   "metadata": {
    "colab_type": "text",
    "id": "TRr6PZcLJ6Qd"
   },
   "source": [
    "# Ejercicio 2 - Crear un modelo clasificador\n",
    "\n",
    "Crea un modelo que pueda clasificar las imágenes en \"HOTDOG\" y \"NOT-HOTDOG\". Presta atención a las dimensiones de las imágenes. El comando para entrenar el modelo se provee por conveniencia.\n",
    "\n",
    "* **Sugerencia:** Vuelve a revisar el modelo convolucional que hiciste para MNIST. \n",
    "* **Importante:** Recuerda cambiar el tipo de *runtime* a GPU. Si hay un error de memoria (OOM), intente agregar *layers* de pooling entre los *layers* convolucionales.\n"
   ]
  },
  {
   "cell_type": "code",
   "execution_count": null,
   "metadata": {
    "colab": {
     "base_uri": "https://localhost:8080/",
     "height": 1000
    },
    "colab_type": "code",
    "id": "ymmZgR2TJ28E",
    "outputId": "8ff8efb7-dd68-4935-ee06-c0b79460a488"
   },
   "outputs": [],
   "source": [
    "# crear el modelo\n",
    "# tu código aquí (~11-16 líneas)\n",
    "\n",
    "# compilar el modelo\n",
    "# tu código aquí (~1 línea)\n",
    "\n",
    "# entrenamos el modelo en 100 epochs - va a tardar unos 10 minutos, aprovecha el tiempo para leer sobre generadores!\n",
    "historia = model.fit(\n",
    "      train_gen,\n",
    "      epochs=100,\n",
    "      verbose=1,\n",
    "      validation_data = test_gen)"
   ]
  },
  {
   "cell_type": "markdown",
   "metadata": {
    "colab_type": "text",
    "id": "tIYMARiKUOe_"
   },
   "source": [
    "Vemos que incluso luego de 100 *epochs* el rendimiento del modelo no es muy bueno. Esto se debe a que 500 imágenes no son suficientes para entrenar bien el modelo. Podemos ver este comportamiento analizando la historia como lo hicimos en el notebook anterior. Note la diferencia en el progreso de la precisión entre el entrenamiento y la evaluación. y como la función de costo de ambos diverge considerablemente."
   ]
  },
  {
   "cell_type": "code",
   "execution_count": null,
   "metadata": {
    "colab": {
     "base_uri": "https://localhost:8080/",
     "height": 696
    },
    "colab_type": "code",
    "id": "t_RY1LDEOkrw",
    "outputId": "5df90d55-3332-4642-9128-c2701b6d15dc"
   },
   "outputs": [],
   "source": [
    "ver_historia(historia)"
   ]
  },
  {
   "cell_type": "markdown",
   "metadata": {
    "colab_type": "text",
    "id": "GGd7lGPOVSbm"
   },
   "source": [
    "# Ejercicio 3 - Aumentar el *dataset*\n",
    "\n",
    "Para mejorar el performance de este modelo, se requieren más imágenes. Afortunadamente, podemos aumentar nuestro dataset usando las funcionalidades de los generadores. Podemos definir transformaciones a las imágenes, entre otras:\n",
    "* rotaciones\n",
    "* zoom\n",
    "* reflexiones verticales y horizontales\n",
    "\n",
    "Se provee el código que produce un *dataset* aumentado para el entrenamiento. Cree un generador similar para la evaluación. "
   ]
  },
  {
   "cell_type": "code",
   "execution_count": null,
   "metadata": {
    "colab": {
     "base_uri": "https://localhost:8080/",
     "height": 51
    },
    "colab_type": "code",
    "id": "5iuW6scCXeuz",
    "outputId": "8107c597-6592-4b38-bfa4-e19875b7b00f"
   },
   "outputs": [],
   "source": [
    "# crear el generador de entrenamiento\n",
    "train_datagen2 = ImageDataGenerator(rescale=1./255,\n",
    "                                    rotation_range=40,\n",
    "                                    width_shift_range=0.2,\n",
    "                                    height_shift_range=0.2,\n",
    "                                    shear_range=0.2,\n",
    "                                    zoom_range=0.2,\n",
    "                                    horizontal_flip=True,\n",
    "                                    fill_mode='nearest')\n",
    "\n",
    "train_gen2 = train_datagen2.flow_from_directory(train_dir,\n",
    "                                                target_size=(150,150),\n",
    "                                                class_mode='binary')\n",
    "\n",
    "# crear el generador de evaluación\n",
    "# tu código aquí (~12 líneas)\n"
   ]
  },
  {
   "cell_type": "markdown",
   "metadata": {
    "colab_type": "text",
    "id": "OMyGIVjqY5Yj"
   },
   "source": [
    "# Ejercicio 4 - re-entrenar\n",
    "\n",
    "Genere un nuevo modelo y entrenelo usando los generadores con datos aumentados."
   ]
  },
  {
   "cell_type": "code",
   "execution_count": null,
   "metadata": {
    "colab": {
     "base_uri": "https://localhost:8080/",
     "height": 1000
    },
    "colab_type": "code",
    "id": "9SMqF-a-Y7o8",
    "outputId": "1b735caf-5f5e-4f61-cc92-2029138706a7"
   },
   "outputs": [],
   "source": [
    "# crear el modelo (sugerencia: usar el mismo modelo que creaste arriba)\n",
    "# crear el modelo\n",
    "model2 = # tu código aquí (~11-16 líneas)\n",
    "\n",
    "# compilar el modelo\n",
    "# tu código aquí (~1 línea)\n",
    "\n",
    "# entrenamos el modelo en 100 epochs\n",
    "historia2 = model2.fit(\n",
    "      train_gen2,\n",
    "      epochs=100,\n",
    "      verbose=1,\n",
    "      validation_data = test_gen2)"
   ]
  },
  {
   "cell_type": "code",
   "execution_count": null,
   "metadata": {
    "colab": {
     "base_uri": "https://localhost:8080/",
     "height": 696
    },
    "colab_type": "code",
    "id": "yyK7Cl8YZ2Aa",
    "outputId": "ad4766a4-57b8-40f3-ba33-ad6c86074fce"
   },
   "outputs": [],
   "source": [
    "fig, axs = plt.subplots(2,1, figsize=(10, 8), dpi=100, sharey=False)\n",
    "ver_historia(historia, 'dataset normal', ax=axs)\n",
    "ver_historia(historia2, 'dataset aumentado', ax=axs)\n",
    "plt.show()"
   ]
  },
  {
   "cell_type": "markdown",
   "metadata": {
    "colab_type": "text",
    "id": "Smo5p2AMnqS1"
   },
   "source": [
    "# Créditos\n",
    "\n",
    "Este notebook utiliza y modifica recursos del [tutorial de TensorFlow](https://www.tensorflow.org/tutorials/images/classification) y está inspirado en contenido del curso online [TensorFlow in Practice](https://www.deeplearning.ai/tensorflow-in-practice/).\n"
   ]
  }
 ],
 "metadata": {
  "accelerator": "GPU",
  "colab": {
   "name": "D2_E2_hotdog_not-hotdog.ipynb",
   "provenance": []
  },
  "kernelspec": {
   "display_name": "Python 3",
   "language": "python",
   "name": "python3"
  },
  "language_info": {
   "codemirror_mode": {
    "name": "ipython",
    "version": 3
   },
   "file_extension": ".py",
   "mimetype": "text/x-python",
   "name": "python",
   "nbconvert_exporter": "python",
   "pygments_lexer": "ipython3",
   "version": "3.7.5"
  }
 },
 "nbformat": 4,
 "nbformat_minor": 4
}
