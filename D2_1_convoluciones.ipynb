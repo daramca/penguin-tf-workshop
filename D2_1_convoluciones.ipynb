{
 "cells": [
  {
   "cell_type": "markdown",
   "metadata": {
    "colab_type": "text",
    "id": "aIm8_aVLt8R2"
   },
   "source": [
    "<a href=\"https://colab.research.google.com/github/torresmateo/penguin-tf-workshop/blob/master/D2_1_convoluciones.ipynb\" target=\"_parent\">\n",
    "  <img src=\"https://colab.research.google.com/assets/colab-badge.svg\" alt=\"Open In Colab\"/>\n",
    "</a>\n",
    "\n",
    "# Convoluciones \n",
    "\n",
    "En este notebook se intenta dar una explicación intuitiva de los filtros convolucionales que se usan en *deep learning*. No se explicará la matemática de las convoluciones, simplemente se darán ejemplos de el tipo de *features* que un filtro convolucional extrae de una imagen, y como esto puede ayudarnos a mejorar la calidad de nuestros modelos.\n",
    "\n",
    "Antes que nada, importamos las bibliotecas necesarias.\n",
    "\n"
   ]
  },
  {
   "cell_type": "code",
   "execution_count": null,
   "metadata": {
    "colab": {},
    "colab_type": "code",
    "id": "9KUlNr3mmw4h"
   },
   "outputs": [],
   "source": [
    "# Se incluyen las bibliotecas necesarias\n",
    "%tensorflow_version 2.x\n",
    "import numpy as np\n",
    "import tensorflow as tf\n",
    "import matplotlib.pyplot as plt\n",
    "from scipy import signal  # signal nos permite usar una implementación de la convolución bidimensional\n",
    "import imageio  # esta biblioteca provee acceso rápido a varias imágenes que nos sirven para nuestros ejemplos\n",
    "plt.style.use('default')"
   ]
  },
  {
   "cell_type": "markdown",
   "metadata": {
    "colab_type": "text",
    "id": "qARqkz093svu"
   },
   "source": [
    "En la siguiente celda, se incluyen funciones útiles para visualizar lo que está ocurriendo con las imágenes. Esto no se explica en los slides, pero es bueno que intentes entender el código en la siguiente celda."
   ]
  },
  {
   "cell_type": "code",
   "execution_count": null,
   "metadata": {
    "colab": {},
    "colab_type": "code",
    "id": "UiuPbwlB3sOe"
   },
   "outputs": [],
   "source": [
    "def ver_ejemplo(img, filtro=None, expandir_canales=False, clase=''):\n",
    "    \"\"\"\n",
    "    Visualizar una imágen del dataset\n",
    "\n",
    "    Parameters\n",
    "    ----------\n",
    "    img : np.ndarray\n",
    "        Una matriz que contiene la imagen a mostrar\n",
    "    filtro : np.ndarray, opcional\n",
    "        El filtro convolucional que se aplicará a la imagen.\n",
    "        Por defecto, no se aplica ningún filtro a la imagen.\n",
    "    expandir_canales : int\n",
    "        Además de mostrar la imagen, mostrar los canales \n",
    "        individualmente.\n",
    "    clase : str, opcional\n",
    "        Si se desea, se puede asignar una clase como título \n",
    "        de la imágen.\n",
    "    \"\"\"\n",
    "\n",
    "    def imagen(img, ax, channel='all'):\n",
    "        chs = ['Rojo', 'Verde', 'Azul']\n",
    "        t = clase if channel == 'all' else channel\n",
    "        if channel != 'all':\n",
    "            n_img = np.zeros(img.shape)\n",
    "            n_img[:,:,chs.index(channel)] = img[:,:,chs.index(channel)]\n",
    "        else:\n",
    "            n_img = img\n",
    "        ax.set(title=t)\n",
    "        im = ax.imshow(n_img.astype(int))\n",
    "        ax.grid(False)\n",
    "        ax.get_xaxis().set_ticks([])\n",
    "        ax.get_yaxis().set_ticks([])\n",
    "\n",
    "    def filtrar(img, filtro):\n",
    "        n_img = np.zeros(img.shape)\n",
    "        for i in range(3):\n",
    "            n_img[:,:,i] = signal.convolve2d(img[:,:,i].astype(int), filtro, boundary='symm', mode='same')\n",
    "        return n_img\n",
    "\n",
    "    # determinar la cantidad de ax en la figura\n",
    "    rows, cols = 1, 1\n",
    "    if expandir_canales:\n",
    "        cols += 3\n",
    "    if filtro is not None:\n",
    "        rows += 1\n",
    "        # se aplica la convolución a la imagen\n",
    "        img_conv = filtrar(img, filtro)\n",
    "    #fig, axs = plt.subplots(rows, cols, figsize=(5*cols,5*rows), dpi=100)\n",
    "    fig, axs = plt.subplots(rows, cols, dpi=100)\n",
    "    if rows == 1 and cols == 1:\n",
    "        imagen(img, axs)\n",
    "    else:\n",
    "        if filtro is None:\n",
    "            axs.reshape(axs.shape[0],1)\n",
    "        imagen(img, axs[0, 0])\n",
    "    if expandir_canales:\n",
    "        imagen(img, axs[0, 1], 'Rojo')\n",
    "        imagen(img, axs[0, 2], 'Verde')\n",
    "        imagen(img, axs[0, 3], 'Azul')\n",
    "    if filtro is not None:\n",
    "        imagen(img_conv, axs[1,0])\n",
    "        if expandir_canales:\n",
    "            imagen(img_conv, axs[1, 1], 'Rojo')\n",
    "            imagen(img_conv, axs[1, 2], 'Verde')\n",
    "            imagen(img_conv, axs[1, 3], 'Azul')\n",
    "    plt.show()"
   ]
  },
  {
   "cell_type": "code",
   "execution_count": null,
   "metadata": {
    "colab": {
     "base_uri": "https://localhost:8080/",
     "height": 307
    },
    "colab_type": "code",
    "id": "TK4KzCDuLB79",
    "outputId": "917685bf-a119-4582-fd70-0bfc454c22a5"
   },
   "outputs": [],
   "source": [
    "im = imageio.imread('../house.jpg')\n"
   ]
  },
  {
   "cell_type": "code",
   "execution_count": null,
   "metadata": {
    "colab": {
     "base_uri": "https://localhost:8080/",
     "height": 422
    },
    "colab_type": "code",
    "id": "g-AYdwkrLCd4",
    "outputId": "95194a45-8f00-4b46-9d1a-6180f4d1c405"
   },
   "outputs": [],
   "source": [
    "filtro = np.array([[ -3-3j, 0-10j,  +3 -3j],\n",
    "                   [-10+0j, 0+ 0j, +10 +0j],\n",
    "                   [ -3+3j, 0+10j,  +3 +3j]])\n",
    "ver_ejemplo(im, filtro=filtro, expandir_canales=True)"
   ]
  },
  {
   "cell_type": "code",
   "execution_count": null,
   "metadata": {
    "colab": {
     "base_uri": "https://localhost:8080/",
     "height": 405
    },
    "colab_type": "code",
    "id": "BQ2DOM_YL9wS",
    "outputId": "ee68891e-798d-40e8-f92b-87f1b1971d79"
   },
   "outputs": [],
   "source": [
    "filtro  = np.array([[-1, 0, 1],\n",
    "                    [-2, 0, 2],\n",
    "                    [-1, 0, 1]])\n",
    "ver_ejemplo(im, filtro=filtro, expandir_canales=True)"
   ]
  },
  {
   "cell_type": "code",
   "execution_count": null,
   "metadata": {
    "colab": {
     "base_uri": "https://localhost:8080/",
     "height": 405
    },
    "colab_type": "code",
    "id": "V64-bfGFMShq",
    "outputId": "f301b3fb-6512-49ab-855b-e2b9afd7d950"
   },
   "outputs": [],
   "source": [
    "filtro  = np.array([[-1, 0, 1],\n",
    "                    [-2, 0, 2],\n",
    "                    [-1, 0, 1]])\n",
    "ver_ejemplo(im, filtro=filtro.T, expandir_canales=True)"
   ]
  }
 ],
 "metadata": {
  "colab": {
   "name": "D2_1_convoluciones.ipynb",
   "provenance": []
  },
  "kernelspec": {
   "display_name": "Python 3",
   "language": "python",
   "name": "python3"
  },
  "language_info": {
   "codemirror_mode": {
    "name": "ipython",
    "version": 3
   },
   "file_extension": ".py",
   "mimetype": "text/x-python",
   "name": "python",
   "nbconvert_exporter": "python",
   "pygments_lexer": "ipython3",
   "version": "3.7.5"
  }
 },
 "nbformat": 4,
 "nbformat_minor": 4
}
